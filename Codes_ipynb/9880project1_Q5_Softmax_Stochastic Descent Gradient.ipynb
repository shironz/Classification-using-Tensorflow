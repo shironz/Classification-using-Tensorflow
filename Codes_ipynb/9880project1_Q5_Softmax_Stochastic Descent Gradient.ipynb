{
 "cells": [
  {
   "cell_type": "code",
   "execution_count": 198,
   "metadata": {},
   "outputs": [],
   "source": [
    "# import desired packages\n",
    "import tensorflow as tf\n",
    "import numpy as np\n",
    "import collections\n",
    "import pandas as pd\n",
    "import seaborn as sns\n",
    "import matplotlib.pyplot as plt\n",
    "from sklearn.preprocessing import LabelEncoder\n",
    "from sklearn.utils import shuffle\n",
    "from sklearn.model_selection import train_test_split\n",
    "%matplotlib inline\n",
    "learn = tf.contrib.learn\n",
    "tf.logging.set_verbosity(tf.logging.ERROR)"
   ]
  },
  {
   "cell_type": "code",
   "execution_count": 199,
   "metadata": {},
   "outputs": [
    {
     "name": "stdout",
     "output_type": "stream",
     "text": [
      "Extracting MNIST_data/train-images-idx3-ubyte.gz\n",
      "Extracting MNIST_data/train-labels-idx1-ubyte.gz\n",
      "Extracting MNIST_data/t10k-images-idx3-ubyte.gz\n",
      "Extracting MNIST_data/t10k-labels-idx1-ubyte.gz\n"
     ]
    }
   ],
   "source": [
    "from tensorflow.examples.tutorials.mnist import input_data\n",
    "mnist = input_data.read_data_sets(\"MNIST_data/\", one_hot=True)"
   ]
  },
  {
   "cell_type": "code",
   "execution_count": 200,
   "metadata": {},
   "outputs": [],
   "source": [
    "# get the train data and test data\n",
    "train_data=mnist.train.images # Return np.array\n",
    "train_labels=mnist.train.labels\n",
    "test_data=mnist.test.images # Return np.array\n",
    "test_labels=mnist.test.labels"
   ]
  },
  {
   "cell_type": "code",
   "execution_count": 201,
   "metadata": {},
   "outputs": [
    {
     "name": "stdout",
     "output_type": "stream",
     "text": [
      "(55000, 784)\n",
      "(55000, 10)\n",
      "(10000, 784)\n",
      "(10000, 10)\n"
     ]
    }
   ],
   "source": [
    "# check the dimension of the data\n",
    "print(train_data.shape)\n",
    "print(train_labels.shape)\n",
    "print(test_data.shape)\n",
    "print(test_labels.shape)"
   ]
  },
  {
   "cell_type": "code",
   "execution_count": 202,
   "metadata": {},
   "outputs": [],
   "source": [
    "# display some digits\n",
    "def display(i):\n",
    "    img=test_data[i]\n",
    "    plt.title(\"Example %d, Label: %d\" % (i, np.where(test_labels[i] == 1)[0]))\n",
    "    plt.imshow(img.reshape((28,28)), cmap=plt.cm.gray_r)"
   ]
  },
  {
   "cell_type": "code",
   "execution_count": 203,
   "metadata": {},
   "outputs": [
    {
     "data": {
      "image/png": "[encoded data removed]",
      "text/plain": [
       "<Figure size 432x288 with 1 Axes>"
      ]
     },
     "metadata": {},
     "output_type": "display_data"
    }
   ],
   "source": [
    "display(8)"
   ]
  },
  {
   "cell_type": "code",
   "execution_count": 204,
   "metadata": {},
   "outputs": [],
   "source": [
    "# Define the important parameters and variables to work with the tensors\n",
    "learning_rate=0.01\n",
    "training_epochs=2000\n",
    "cost_history=np.empty(shape=[1],dtype=float)"
   ]
  },
  {
   "cell_type": "code",
   "execution_count": 205,
   "metadata": {},
   "outputs": [],
   "source": [
    "# placeholders and variables, input has 784 features and output has 10 classes\n",
    "x=tf.placeholder(tf.float32, shape=[None,784])\n",
    "y_=tf.placeholder(tf.float32, shape=[None,10])\n",
    "# weight and bias\n",
    "w=tf.Variable(tf.zeros([784,10]))\n",
    "b=tf.Variable(tf.zeros([10]))"
   ]
  },
  {
   "cell_type": "code",
   "execution_count": 206,
   "metadata": {},
   "outputs": [],
   "source": [
    "# model\n",
    "y=tf.matmul(x,w)+b"
   ]
  },
  {
   "cell_type": "code",
   "execution_count": 207,
   "metadata": {},
   "outputs": [],
   "source": [
    "# loss function\n",
    "cost_function=tf.reduce_mean(tf.nn.softmax_cross_entropy_with_logits(labels=y_, logits=y))"
   ]
  },
  {
   "cell_type": "code",
   "execution_count": 208,
   "metadata": {},
   "outputs": [],
   "source": [
    "# optimiser\n",
    "training_step=tf.train.GradientDescentOptimizer(0.01).minimize(cost_function)"
   ]
  },
  {
   "cell_type": "code",
   "execution_count": 209,
   "metadata": {},
   "outputs": [],
   "source": [
    "# session parameters\n",
    "sess=tf.InteractiveSession()\n",
    "#initialising variables\n",
    "init=tf.global_variables_initializer()\n",
    "sess.run(init)"
   ]
  },
  {
   "cell_type": "code",
   "execution_count": 210,
   "metadata": {},
   "outputs": [],
   "source": [
    "# Train\n",
    "for _ in range(2000):\n",
    "    batch_xs, batch_ys = mnist.train.next_batch(400)\n",
    "    sess.run(training_step, feed_dict={x: batch_xs, y_: batch_ys})"
   ]
  },
  {
   "cell_type": "code",
   "execution_count": 211,
   "metadata": {},
   "outputs": [
    {
     "data": {
      "text/plain": [
       "array([[0., 0., 0., ..., 0., 0., 0.],\n",
       "       [0., 0., 0., ..., 0., 0., 0.],\n",
       "       [0., 0., 0., ..., 0., 0., 0.],\n",
       "       ...,\n",
       "       [0., 0., 0., ..., 0., 0., 0.],\n",
       "       [0., 0., 0., ..., 0., 0., 0.],\n",
       "       [0., 0., 0., ..., 0., 0., 0.]], dtype=float32)"
      ]
     },
     "execution_count": 211,
     "metadata": {},
     "output_type": "execute_result"
    }
   ],
   "source": [
    "# get the weights\n",
    "sess.run(w)"
   ]
  },
  {
   "cell_type": "code",
   "execution_count": 212,
   "metadata": {},
   "outputs": [
    {
     "data": {
      "text/plain": [
       "array([-0.06578695,  0.14138913, -0.03303928, -0.04619266,  0.04128652,\n",
       "        0.11099701, -0.01568985,  0.08063453, -0.18723425, -0.02636394],\n",
       "      dtype=float32)"
      ]
     },
     "execution_count": 212,
     "metadata": {},
     "output_type": "execute_result"
    }
   ],
   "source": [
    "# get the bias\n",
    "sess.run(b)"
   ]
  },
  {
   "cell_type": "code",
   "execution_count": 213,
   "metadata": {},
   "outputs": [
    {
     "name": "stdout",
     "output_type": "stream",
     "text": [
      "Test Accuracy:  0.885\n"
     ]
    }
   ],
   "source": [
    "# Print the final prediction accuracy\n",
    "correct_prediction=tf.equal(tf.argmax(y,1), tf.argmax(y_,1))\n",
    "accuracy0=tf.reduce_mean(tf.cast(correct_prediction, tf.float32))\n",
    "accuracy=sess.run(accuracy0, feed_dict={x: test_data, y_: test_labels})\n",
    "print(\"Test Accuracy: \", accuracy)"
   ]
  },
  {
   "cell_type": "code",
   "execution_count": 214,
   "metadata": {},
   "outputs": [],
   "source": [
    "# Check whether we can separate digits 3 and 8\n",
    "location=sess.run(tf.argmax(test_labels,1))\n",
    "np_array=np.array(location)    \n",
    "index8=np.where(np_array==8)\n",
    "index3=np.where(np_array==3)\n",
    "# get the data for digits 8 and digits 3\n",
    "test_data8=test_data[index8]\n",
    "test_data3=test_data[index3]\n",
    "test_labels8=test_labels[index8]\n",
    "test_labels3=test_labels[index3]"
   ]
  },
  {
   "cell_type": "code",
   "execution_count": 215,
   "metadata": {},
   "outputs": [
    {
     "name": "stdout",
     "output_type": "stream",
     "text": [
      "Counter({8: 821, 3: 37, 5: 29, 9: 15, 6: 15, 7: 14, 2: 13, 4: 11, 1: 10, 0: 9})\n",
      "Counter({3: 885, 5: 36, 8: 24, 2: 19, 7: 17, 9: 14, 6: 7, 0: 6, 1: 1, 4: 1})\n"
     ]
    }
   ],
   "source": [
    "f8=sess.run(tf.argmax(y,1), feed_dict={x: test_data8})\n",
    "print(collections.Counter(f8))\n",
    "f3=sess.run(tf.argmax(y,1), feed_dict={x: test_data3})\n",
    "print(collections.Counter(f3))"
   ]
  },
  {
   "cell_type": "code",
   "execution_count": 216,
   "metadata": {},
   "outputs": [],
   "source": [
    "# From the outcome, we can see that for each case, the mistakes are not so big.\n",
    "# Hence, our method could separate digits 3 and 8"
   ]
  }
 ],
 "metadata": {
  "kernelspec": {
   "display_name": "TF",
   "language": "python",
   "name": "tf_env"
  },
  "language_info": {
   "codemirror_mode": {
    "name": "ipython",
    "version": 3
   },
   "file_extension": ".py",
   "mimetype": "text/x-python",
   "name": "python",
   "nbconvert_exporter": "python",
   "pygments_lexer": "ipython3",
   "version": "3.6.4"
  }
 },
 "nbformat": 4,
 "nbformat_minor": 2
}
